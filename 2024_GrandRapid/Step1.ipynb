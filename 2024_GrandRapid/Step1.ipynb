{
 "cells": [
  {
   "cell_type": "code",
   "execution_count": null,
   "id": "8659ff86-403f-4bc8-b3a8-ab0c4208e79a",
   "metadata": {},
   "outputs": [],
   "source": [
    "# sheng "
   ]
  },
  {
   "cell_type": "code",
   "execution_count": null,
   "id": "fa01bbbf-a442-4698-be5c-7a67cd162e81",
   "metadata": {},
   "outputs": [],
   "source": [
    "# test"
   ]
  }
 ],
 "metadata": {
  "kernelspec": {
   "display_name": "Python generic (scicomp-python-env/2024-01)",
   "language": "python",
   "name": "python3"
  },
  "language_info": {
   "codemirror_mode": {
    "name": "ipython",
    "version": 3
   },
   "file_extension": ".py",
   "mimetype": "text/x-python",
   "name": "python",
   "nbconvert_exporter": "python",
   "pygments_lexer": "ipython3",
   "version": "3.11.9"
  }
 },
 "nbformat": 4,
 "nbformat_minor": 5
}

{
 "cells": [
  {
   "cell_type": "code",
   "execution_count": null,
   "id": "963289fd-80c4-4232-812f-3c29dd5da7b2",
   "metadata": {},
   "outputs": [],
   "source": [
    "import mne\n",
    "import os\n",
    "from preprocessor.filehandling import get_files\n",
    "import os.path as op\n",
    "from mne import chpi\n",
    "from mne.preprocessing import maxwell_filter\n",
    "import numpy as np\n",
    "from preprocessor.cleaning import ICA\n",
    "from os import makedirs\n",
    "import json\n",
    "import matplotlib.pyplot as plt\n",
    "\n",
    "### !!!deal only with one raw fif file at a time !!! ###\n",
    "raw_subjects_dir = '/data/sheng/MEG/'\n",
    "subject = \"case_0000\"\n",
    "meg_subjects_dir = op.join('raw_subjects_dir', subject, 'spontaneous')\n",
    "\n",
    "## these are maxfiltered by Paul's tech\n",
    "filepath, filename = get_files(op.join(raw_subjects_dir, subject, ''), incl_strings = ['spont_rsa', 'tsss.fif'],  ftype='.fif')\n",
    "print('Select the fif file from blew list to be processed **********************************')\n",
    "\n",
    "for item in filepath:\n",
    "    print(item)\n"
   ]
  },
  {
   "cell_type": "code",
   "execution_count": null,
   "id": "b785d647-b1c5-4e89-b9cc-609f8f378658",
   "metadata": {},
   "outputs": [],
   "source": [
    "SELECTED_FILE = 1\n",
    "FILEPATH = filepath[SELECTED_FILE]\n",
    "FILENAME = filename[SELECTED_FILE]\n",
    "raw = mne.io.read_raw_fif(FILEPATH, allow_maxshield=True, preload=True)\n",
    "print(raw.info)\n",
    "########################################################################\n",
    "# PSD check on the raw\n",
    "########################################################################\n",
    "figu = raw.plot_psd(fmin=1, fmax=249, n_jobs=2)\n",
    "ax=figu.axes[0]\n",
    "ax.xaxis.set_major_locator(plt.MultipleLocator(10))\n",
    "ax.xaxis.set_minor_locator(plt.MultipleLocator(2))\n",
    "ax.grid(True, which='both')\n",
    "\n",
    "ax=figu.axes[1]\n",
    "ax.xaxis.set_major_locator(plt.MultipleLocator(10))\n",
    "ax.xaxis.set_minor_locator(plt.MultipleLocator(2))\n",
    "ax.grid(True, which='both')\n",
    "\n",
    "plt.show()"
   ]
  },
  {
   "cell_type": "code",
   "execution_count": null,
   "id": "3e0eef41-1737-485b-800a-5144e547f514",
   "metadata": {},
   "outputs": [],
   "source": [
    "#%% Plot data to check bad channels\n",
    "# visually check bad channels, and click bad channels to mark\n",
    "raw_copy = raw.copy().filter(1, 100)\n",
    "# raw_copy = mne.chpi.filter_chpi(raw_copy)\n",
    "raw_copy.plot(duration=10.0, bad_color='red')\n",
    "\n",
    "\n",
    "#%% print bad channels and copy it to raw\n",
    "raw.info['bads'] = raw_copy.info['bads'].copy()\n",
    "print(raw.info['bads'])"
   ]
  },
  {
   "cell_type": "code",
   "execution_count": null,
   "id": "a6b3c085-be4b-419a-8fd4-407a38b9c261",
   "metadata": {},
   "outputs": [],
   "source": [
    "# save bad channels\n",
    "bad_channel_dir = op.join(meg_subjects_dir, FILENAME[:-4], 'bad_channels', '')\n",
    "makedirs(bad_channel_dir , exist_ok=True)\n",
    "fpath_bad_channel = op.join(bad_channel_dir, FILENAME[:-4] + \"_bad_channels.txt\")\n",
    "bad_channels = raw.info['bads']\n",
    "with open(fpath_bad_channel, 'w') as file:\n",
    "     file.write(json.dumps(bad_channels))"
   ]
  },
  {
   "cell_type": "code",
   "execution_count": null,
   "id": "c7587e7b-e007-4232-8f5f-7cd6d541d2e2",
   "metadata": {},
   "outputs": [],
   "source": [
    "'''\n",
    "######################################################  \n",
    "# Motion compensation (WIP)                       ##\n",
    "# Compute all necessary CHPI stuffs, CHECK with Paul/Matias about this!!!\n",
    "######################################################  \n",
    "chpi_amplitudes = chpi.compute_chpi_amplitudes(raw)\n",
    "chpi_locs = chpi.compute_chpi_locs(raw.info, chpi_amplitudes)\n",
    "head_pos = chpi.compute_head_pos(raw.info, chpi_locs)\n",
    "\n",
    "########################################################## \n",
    "# Run the Maxfilter process \n",
    "##########################################################\n",
    "calibration_path = 'calibration_filepath' + 'sss_cal_BioMag_TRIUX_3126.dat'\n",
    "crosstalk_path = 'crosstalk_filepath' + 'ct_sparse_BioMag_TRIUX_3126.fif'      \n",
    "raw_ts = maxwell_filter(raw, head_pos=head_pos, st_correlation=0.9, st_duration = 20,\\\n",
    "                        calibration=calibration_path, cross_talk=crosstalk_path)\n",
    "\n",
    "# PSD check\n",
    "raw_ts.plot_psd(fmin=1, fmax=249, n_jobs=8)\n",
    "'''"
   ]
  },
  {
   "cell_type": "code",
   "execution_count": null,
   "id": "d6fef44a-6246-4ab7-bfd8-5d6c03a7ba4e",
   "metadata": {},
   "outputs": [],
   "source": [
    "############################################################################################\n",
    "###                                            Notch Filtering                          ###\n",
    "############################################################################################\n",
    "# Notch filtering\n",
    "\n",
    "raw_ts = raw ## if raw is maxfiltered by Paul's tech\n",
    "freqs = np.arange(60, 301, 60)\n",
    "freqs = np.concatenate((np.array([27.5]), freqs))\n",
    "raw_filt = raw_ts.notch_filter(freqs, n_jobs=4)\n",
    "raw_filt = raw_ts.notch_filter([59], n_jobs=4)\n",
    "# Band-pass filtering\n",
    "l_freq = None\n",
    "h_freq = 249\n",
    "raw_filt = raw_filt.filter(l_freq, h_freq, n_jobs=8)\n",
    "\n",
    "# PSD check\n",
    "raw_filt.plot_psd(fmin=1, fmax=h_freq, n_jobs=8)"
   ]
  },
  {
   "cell_type": "code",
   "execution_count": null,
   "id": "71ecc7ce-1b90-43ea-b0e5-5700d0a28a44",
   "metadata": {},
   "outputs": [],
   "source": [
    "##############################################\n",
    "# Save filtered data\n",
    "##############################################\n",
    "#filt_dir = op.join(meg_subjects_dir, filename[0][:-4], 'filtered', '')\n",
    "#makedirs(filt_dir , exist_ok=True) # if exists, do nothing\n",
    "#fpath_filt = op.join(filt_dir, filename[0][:-4] + \"_filt.fif\")\n",
    "fpath_filt = op.join(raw_subjects_dir, subject, '',FILENAME[:-4] + \"_filt.fif\")\n",
    "raw_filt.save(fpath_filt, overwrite=True)"
   ]
  },
  {
   "cell_type": "code",
   "execution_count": null,
   "id": "1da29cfe-9858-4fcd-a63d-1d60b2b77b54",
   "metadata": {
    "scrolled": true
   },
   "outputs": [],
   "source": [
    "##############################################\n",
    "#%% ICA\n",
    "##############################################\n",
    "subj_dir = op.join(raw_subjects_dir, subject, '')\n",
    "ica_dir = op.join(meg_subjects_dir, 'ica', '', filename[0][:-4], '')\n",
    "makedirs(ica_dir, exist_ok=True)\n",
    "fpath_ica = op.join(raw_subjects_dir, subject, fpath_filt[:-4] + '_ica.fif')\n",
    "\n",
    "# Run ICA and save results\n",
    "ica = ICA(raw_filt, FILENAME[:-4], subj_dir)\n",
    "ica.compute_ica(n_components=70, l_freq=1, h_freq=100)\n",
    "ica.make_ica_figs(ica_dir)\n",
    "ica.ica.save(fpath_ica, overwrite=True)"
   ]
  },
  {
   "cell_type": "code",
   "execution_count": null,
   "id": "0f528661-93b6-4a29-92cc-bc61dae4fc4b",
   "metadata": {},
   "outputs": [],
   "source": [
    "\n",
    "\n",
    "\n",
    "#######################################################\n",
    "#%% plot ICA to visually mark bad components\n",
    "#######################################################\n",
    "ica = mne.preprocessing.read_ica(fpath_ica)\n",
    "raw_filt = mne.io.read_raw_fif(fpath_filt, preload=True)\n",
    "ica.plot_sources(raw_filt.copy().filter(1, 100, n_jobs=8))"
   ]
  },
  {
   "cell_type": "code",
   "execution_count": null,
   "id": "8e0783b9-d595-4db2-bb1e-24a84beb64ef",
   "metadata": {},
   "outputs": [],
   "source": [
    "# Use EOG and ECG channels to select ICA components.\n",
    "# Note!! The EOG and ECG results are not 100% reliable. Just use it for reference\n",
    "## This operation can be very CPU intense.\n",
    "\n",
    "# ocular motor\n",
    "eog_indices, eog_scores = ica.find_bads_eog(raw_filt, threshold=0.4, measure='correlation')\n",
    "ica.plot_scores(eog_scores)"
   ]
  },
  {
   "cell_type": "code",
   "execution_count": null,
   "id": "db7b09cd-5a56-4a2e-b8ae-ad09040d9854",
   "metadata": {},
   "outputs": [],
   "source": [
    "## heart \n",
    "ecg_indices, ecg_scores = ica.find_bads_ecg(raw_filt, method='correlation')\n",
    "ica.plot_scores(ecg_scores)"
   ]
  },
  {
   "cell_type": "code",
   "execution_count": null,
   "id": "7a296530-1de0-4543-98a9-4a8335818f52",
   "metadata": {},
   "outputs": [],
   "source": [
    "[eog_scores[eog_indices], ecg_scores[ecg_indices]]"
   ]
  },
  {
   "cell_type": "code",
   "execution_count": null,
   "id": "6cd370e7-83b5-4be9-a521-46f6b6f0cb97",
   "metadata": {},
   "outputs": [],
   "source": [
    "# visualize\n",
    "idx = np.array(ecg_indices + eog_indices)\n",
    "ica_scores = np.concatenate((ecg_scores[ecg_indices], eog_scores[eog_indices]))\n",
    "\n",
    "plt.figure(figsize=(7.5, 2))\n",
    "plt.bar(idx, ica_scores)\n",
    "#plt.bar([0], [eog_scores[0]], color='red')\n",
    "plt.xlim(-1, 69)\n",
    "plt.show()"
   ]
  },
  {
   "cell_type": "code",
   "execution_count": null,
   "id": "853599b3-b062-478e-b4ab-83544c8486da",
   "metadata": {},
   "outputs": [],
   "source": [
    "print(eog_indices)\n",
    "print(ecg_indices)"
   ]
  },
  {
   "cell_type": "code",
   "execution_count": null,
   "id": "373ab888-fb26-4e45-96e2-36abbc5b3575",
   "metadata": {},
   "outputs": [],
   "source": [
    "toExclude = list(np.unique(eog_indices + ecg_indices))\n",
    "ica.exclude = [0] + toExclude\n",
    "ica.save(fpath_ica, overwrite=True) # save ica once more after setting ica.excludes"
   ]
  },
  {
   "cell_type": "code",
   "execution_count": null,
   "id": "c404ec21-2014-486b-8fcd-0fe20b8beb89",
   "metadata": {},
   "outputs": [],
   "source": [
    "print(fpath_ica)"
   ]
  },
  {
   "cell_type": "code",
   "execution_count": null,
   "id": "7f0d4cf6-d456-4b6a-a305-61c9dc8bbe38",
   "metadata": {},
   "outputs": [],
   "source": [
    "#%% Set excluded ica components and save the ica results\n",
    "\n",
    "print(ica.exclude)\n",
    "ica.save(fpath_ica, overwrite=True) # save ica once more after setting ica.excludes\n",
    "# Apply the ICs exclusion to raw_filt\n",
    "ica.plot_overlay(raw_filt)\n",
    "raw_ica = ica.apply(raw_filt)\n",
    "\n",
    "# Apply the ICs exclusion to raw_filt\n",
    "ica.plot_overlay(raw_filt)\n",
    "raw_ica = ica.apply(raw_filt)"
   ]
  },
  {
   "cell_type": "code",
   "execution_count": null,
   "id": "50dbb0eb-c2a7-4287-a165-df912ef2f754",
   "metadata": {},
   "outputs": [],
   "source": [
    "#%% Final check\n",
    "raw_ica.plot_psd(fmin=1, fmax=h_freq, n_jobs=8)\n",
    "raw_ica_copy = raw_ica.copy().filter(1, 100) \n",
    "raw_ica_copy.plot(duration=10.0, bad_color='red')"
   ]
  },
  {
   "cell_type": "code",
   "execution_count": null,
   "id": "15c0967a-b1a0-459b-a3ee-11b274f49b2c",
   "metadata": {},
   "outputs": [],
   "source": [
    "#%% save bad segments marked from final check\n",
    "raw_ica.set_annotations(raw_ica_copy.annotations)\n",
    "\n",
    "# save data\n",
    "fpath_clean = op.join(raw_subjects_dir, subject, fpath_ica[:-4] + '_cleaned.fif')\n",
    "raw_ica.save(fpath_clean, overwrite=True)"
   ]
  },
  {
   "cell_type": "code",
   "execution_count": null,
   "id": "caf88d7b-299a-4ccd-8d28-1dfc7f14d954",
   "metadata": {},
   "outputs": [],
   "source": []
  },
  {
   "cell_type": "code",
   "execution_count": null,
   "id": "6a8c1ddb-35fa-40b8-b70e-06ece6658113",
   "metadata": {},
   "outputs": [],
   "source": []
  },
  {
   "cell_type": "code",
   "execution_count": null,
   "id": "2955a367-2871-4190-989c-71447fd78b9c",
   "metadata": {},
   "outputs": [],
   "source": []
  }
 ],
 "metadata": {
  "kernelspec": {
   "display_name": "Python 3 (ipykernel)",
   "language": "python",
   "name": "python3"
  },
  "language_info": {
   "codemirror_mode": {
    "name": "ipython",
    "version": 3
   },
   "file_extension": ".py",
   "mimetype": "text/x-python",
   "name": "python",
   "nbconvert_exporter": "python",
   "pygments_lexer": "ipython3",
   "version": "3.12.7"
  }
 },
 "nbformat": 4,
 "nbformat_minor": 5
}

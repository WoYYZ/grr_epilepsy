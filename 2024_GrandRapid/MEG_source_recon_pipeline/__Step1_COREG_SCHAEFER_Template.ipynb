{
 "cells": [
  {
   "cell_type": "code",
   "execution_count": 1,
   "id": "cf886ca3-dfe9-4dab-81b8-ab052213f7ca",
   "metadata": {},
   "outputs": [
    {
     "data": {
      "text/plain": [
       "'\\n\\n\\nrecon-all -skullstrip -clean-bm -gcut -subjid $SUBJECT\\nrecon-all -autorecon2-cp -autorecon3 -subjid $SUBJECT\\n\\n\\n# from here\\nexport SUBJECTS_DIR=/data/sheng/MEG\\nexport SUBJECT=case_0118\\nsudo chmod -R +777 $SUBJECTS_DIR/$SUBJECT\\ncd $SUBJECTS_DIR/$SUBJECT\\nsudo mkdir $SUBJECTS_DIR/$SUBJECT/bem/new\\nsudo chmod -R +777 $SUBJECTS_DIR/$SUBJECT/bem/new\\ncd $SUBJECTS_DIR/$SUBJECT/bem/new\\ncp $SUBJECTS_DIR/$SUBJECT/mri/T1.mgz $SUBJECTS_DIR/$SUBJECT/bem/new/T1-bem.mgz\\ncd $SUBJECTS_DIR/$SUBJECT/bem/new/\\nmri_watershed -useSRAS -atlas -shk_br_surf 3 bembrain -surf bem T1-bem.mgz ws_brain.mgz\\n\\n# after visualizing the bem models, symbolic link\\ncd $SUBJECTS_DIR/$SUBJECT/bem/\\nln -sf  new/bem_inner_skull_surface inner_skull.surf\\nln -sf  new/bem_outer_skull_surface outer_skull.surf\\nln -sf  new/bem_outer_skin_surface outer_skin.surf\\n\\n'"
      ]
     },
     "execution_count": 1,
     "metadata": {},
     "output_type": "execute_result"
    }
   ],
   "source": [
    "'''\n",
    "\n",
    "export SUBJECTS_DIR=/data/sheng/MEG\n",
    "export SUBJECT=case_0000\n",
    "\n",
    "### 1. THIS SNIPET IS FOR REGULAR SUBJECTSS\n",
    "mkheadsurf -subjid $SUBJECT  # create high-res head model for coreg\n",
    "\n",
    "# 2. schaefer 200 \n",
    "cd /data/sheng/MEG\n",
    "./Schaefer_script.sh\n",
    "\n",
    "\n",
    "## 3. Shrink inner bem model if needed\n",
    "### THIS SNIPET IS FOR REGULAR SUBJECTSS BY x \n",
    "export SHRINKAGE=4\n",
    "\n",
    "sudo chmod -R +777 $SUBJECTS_DIR/$SUBJECT\n",
    "cd $SUBJECTS_DIR/$SUBJECT\n",
    "sudo mkdir $SUBJECTS_DIR/$SUBJECT/bem/new\n",
    "sudo chmod -R +777 $SUBJECTS_DIR/$SUBJECT/bem/new\n",
    "cd $SUBJECTS_DIR/$SUBJECT/bem/new\n",
    "cp $SUBJECTS_DIR/$SUBJECT/mri/T1.mgz $SUBJECTS_DIR/$SUBJECT/bem/new/T1-bem.mgz\n",
    "cd $SUBJECTS_DIR/$SUBJECT/bem/new/\n",
    "mri_watershed -useSRAS -atlas -shk_br_surf $SHRINKAGE bembrain -surf bem T1-bem.mgz ws_brain.mgz\n",
    "cd $SUBJECTS_DIR/$SUBJECT/bem/\n",
    "ln -sf  new/bem_inner_skull_surface inner_skull.surf\n",
    "ln -sf  new/bem_outer_skull_surface outer_skull.surf\n",
    "ln -sf  new/bem_outer_skin_surface outer_skin.surf\n",
    "\n",
    "\n",
    "\n",
    "\n",
    "# Executed on 5.12.2024\n",
    "\n",
    "export SUBJECTS_DIR=/data/sheng/MEG\n",
    "export SUBJECT=case_0000\n",
    "sudo chmod -R +777 $SUBJECTS_DIR/$SUBJECT\n",
    "cd $SUBJECTS_DIR/$SUBJECT\n",
    "recon-all -all -subjid $SUBJECT\n",
    "mne watershed_bem --overwrite -s $SUBJECT\n",
    "mkheadsurf -subjid $SUBJECT  # create high-res head model for coreg\n",
    "cd /data/sheng/MEG\n",
    "./Schaefer_script.sh\n",
    "\n",
    "\n",
    "sudo chmod -R +777 $SUBJECTS_DIR/$SUBJECT\n",
    "cd $SUBJECTS_DIR/$SUBJECT\n",
    "sudo mkdir $SUBJECTS_DIR/$SUBJECT/bem/new\n",
    "sudo chmod -R +777 $SUBJECTS_DIR/$SUBJECT/bem/new\n",
    "cd $SUBJECTS_DIR/$SUBJECT/bem/new\n",
    "cp $SUBJECTS_DIR/$SUBJECT/mri/T1.mgz $SUBJECTS_DIR/$SUBJECT/bem/new/T1-bem.mgz\n",
    "cd $SUBJECTS_DIR/$SUBJECT/bem/new/\n",
    "mri_watershed -useSRAS -atlas -shk_br_surf 6 bembrain -surf bem T1-bem.mgz ws_brain.mgz\n",
    "\n",
    "# after visualizing the bem models, symbolic link\n",
    "cd $SUBJECTS_DIR/$SUBJECT/bem/\n",
    "ln -sf  new/bem_inner_skull_surface inner_skull.surf\n",
    "ln -sf  new/bem_outer_skull_surface outer_skull.surf\n",
    "ln -sf  new/bem_outer_skin_surface outer_skin.surf\n",
    "\n",
    "\n",
    "\n",
    "\n",
    "'''\n",
    "\n",
    "############################################################\n",
    "## fixing inner_skull outside of outer skull problem \n",
    "## - based on Judith's slack post, Follow Judith's instruction\n",
    "############################################################\n",
    "'''\n",
    "\n",
    "\n",
    "recon-all -skullstrip -clean-bm -gcut -subjid $SUBJECT\n",
    "recon-all -autorecon2-cp -autorecon3 -subjid $SUBJECT\n",
    "\n",
    "\n",
    "# from here\n",
    "export SUBJECTS_DIR=/data/sheng/MEG\n",
    "export SUBJECT=case_0000\n",
    "sudo chmod -R +777 $SUBJECTS_DIR/$SUBJECT\n",
    "cd $SUBJECTS_DIR/$SUBJECT\n",
    "sudo mkdir $SUBJECTS_DIR/$SUBJECT/bem/new\n",
    "sudo chmod -R +777 $SUBJECTS_DIR/$SUBJECT/bem/new\n",
    "cd $SUBJECTS_DIR/$SUBJECT/bem/new\n",
    "cp $SUBJECTS_DIR/$SUBJECT/mri/T1.mgz $SUBJECTS_DIR/$SUBJECT/bem/new/T1-bem.mgz\n",
    "cd $SUBJECTS_DIR/$SUBJECT/bem/new/\n",
    "mri_watershed -useSRAS -atlas -shk_br_surf 3 bembrain -surf bem T1-bem.mgz ws_brain.mgz\n",
    "\n",
    "# after visualizing the bem models, symbolic link\n",
    "cd $SUBJECTS_DIR/$SUBJECT/bem/\n",
    "ln -sf  new/bem_inner_skull_surface inner_skull.surf\n",
    "ln -sf  new/bem_outer_skull_surface outer_skull.surf\n",
    "ln -sf  new/bem_outer_skin_surface outer_skin.surf\n",
    "\n",
    "'''\n",
    "\n",
    "\n"
   ]
  },
  {
   "cell_type": "code",
   "execution_count": null,
   "id": "b69fd6ae-fb51-4bc4-a42e-353ce36fe00d",
   "metadata": {},
   "outputs": [],
   "source": [
    "#%% import modules\n",
    "import os\n",
    "import os.path as op\n",
    "import numpy as np\n",
    "from mayavi import mlab\n",
    "import shutil\n",
    "import mne\n",
    "from preprocessor.filehandling import get_files\n",
    "from mne.datasets import sample\n",
    "import time\n",
    "import math\n",
    "#print(__doc__)\n",
    "\n",
    "#%% set folder and subject\n",
    "# guay_parker_spont_rsa_1_chpi_raw.fif\n",
    "subjects_dir    = '/data/sheng/MEG/'\n",
    "Subj            = 'case_0000'\n",
    "dir1            = subjects_dir + Subj + '/'\n",
    "filepath, filename = get_files(op.join(subjects_dir, Subj, ''), incl_strings = ['spont_rsa', 'tsss.fif'],  ftype='.fif')\n",
    "\n",
    "# save the coreg file:\n",
    "for iFile in filename:\n",
    "    print(iFile)"
   ]
  },
  {
   "cell_type": "code",
   "execution_count": null,
   "id": "04401bd9-a730-4bba-a6ba-82f9ee07fcb3",
   "metadata": {},
   "outputs": [],
   "source": [
    "# !!!! assign set num corresponding to the spont dataset you wnat to process !!!!\n",
    "setname         = 'set1' \n",
    "\n",
    "coreg_dir       = dir1 + 'freesurfer/coreg' \n",
    "coreg_file      = coreg_dir + '/' + Subj  + '_' + setname + '_coreg_trans.fif'  # e.g., case_0000_set1_coreg_trans.fif\n",
    "#trans_file      = subjects_dir + 'Subj + coreg_file\n",
    "trans_file      = coreg_file\n",
    "src_file        = subjects_dir + Subj + '/bem/' + Subj + '-5-src.fif'\n",
    "mriFile         = dir1 + 'mri/T1.mgz'\n",
    "sol_file        = subjects_dir + Subj + '/bem/' + Subj + '_' + setname + '-bem-sol.fif'\n",
    "print('Next step: coregistration ********************************************')\n",
    "print('Save coreg file as: ' + coreg_file)"
   ]
  },
  {
   "cell_type": "code",
   "execution_count": null,
   "id": "2fc4ca88-4f92-4c00-8402-83baf4ede071",
   "metadata": {},
   "outputs": [],
   "source": [
    "mne.utils.set_config(\"SUBJECTS_DIR\", subjects_dir, set_env=True)\n",
    "mne.gui.coregistration(subject = Subj, subjects_dir=subjects_dir)"
   ]
  },
  {
   "cell_type": "code",
   "execution_count": null,
   "id": "34b9c115-bcb1-42f4-8698-b4423e930823",
   "metadata": {},
   "outputs": [],
   "source": [
    "########################################################################\n",
    "#%% visualize bem surfaces                                            ##\n",
    "########################################################################\n",
    "orientation = 'axial'            # can be 'coronal', 'axial', or 'sagittal'\n",
    "surf        = 'pial'            # 'pial' or 'white' \n",
    "mne.viz.plot_bem(Subj, subjects_dir = subjects_dir, brain_surfaces=surf,orientation=orientation, mri=mriFile)\n",
    "mne.viz.plot_bem(Subj, subjects_dir = subjects_dir, src=src_file, brain_surfaces=surf,orientation=orientation, mri=mriFile)"
   ]
  },
  {
   "cell_type": "code",
   "execution_count": 75,
   "id": "80b96592-3d7c-408b-8096-d5e2ce2d458b",
   "metadata": {},
   "outputs": [
    {
     "name": "stdout",
     "output_type": "stream",
     "text": [
      "['guay_parker_spont_rsa_1_chpi_raw_tsss_filt_ica_cleaned.fif']\n"
     ]
    }
   ],
   "source": [
    "#%% get list of raw files\n",
    "filenames = [f for f in os.listdir(subjects_dir + Subj) if ('fif' in f and 'ica_cleaned' in f)]\n",
    "print(np.array(filenames))"
   ]
  },
  {
   "cell_type": "code",
   "execution_count": 20,
   "id": "7fe930a1-925e-4a81-9f72-e8027775ea1e",
   "metadata": {},
   "outputs": [
    {
     "data": {
      "text/plain": [
       "\"\\nfilename    = 'guay_parker_spont_rsa_1_chpi_raw_tsss_filt_ica_cleaned.fif'\\nraw_file    = dir1 + filename\\n#date        = filename[-10:-4]\\nset_no      = 1    #filename[6:12] # use index from 1 onward\\ninfo        = mne.io.read_raw_fif(raw_file, on_split_missing='warn').info\\nfwd         = mne.make_forward_solution(info,trans_file,src_file,sol_file,meg=True,eeg=False,n_jobs=10)\\n\\n## Write fwd solution\\nfwd_file        = fwd_dir + Subj + '_set' + str(set_no) + '_py-fwd.fif'        \\nos.makedirs(fwd_dir,exist_ok=True)                \\nmne.write_forward_solution(fwd_file, fwd,overwrite=True) \\n\""
      ]
     },
     "execution_count": 20,
     "metadata": {},
     "output_type": "execute_result"
    }
   ],
   "source": [
    "########################################################################\n",
    "# Forward model --- Felix's script, obsolete now 11.2024 !!!!\n",
    "# pick the appropirate fif file from above to make fwd solution       ##\n",
    "########################################################################\n",
    "'''\n",
    "fwd_dir         = dir1 + 'source/ForwardOperators/' \n",
    "#sol_file        = subjects_dir + '/' + Subj + '/bem/sub-14023131-5120-bem-sol.fif'\n",
    "\n",
    "filename    = 'guay_parker_spont_rsa_1_chpi_raw_tsss_filt_ica_cleaned.fif'\n",
    "raw_file    = dir1 + filename\n",
    "#date        = filename[-10:-4]\n",
    "set_no      = 1    #filename[6:12] # use index from 1 onward\n",
    "info        = mne.io.read_raw_fif(raw_file, on_split_missing='warn').info\n",
    "fwd         = mne.make_forward_solution(info,trans_file,src_file,sol_file,meg=True,eeg=False,n_jobs=10)\n",
    "\n",
    "## Write fwd solution\n",
    "fwd_file        = fwd_dir + Subj + '_set' + str(set_no) + '_py-fwd.fif'        \n",
    "os.makedirs(fwd_dir,exist_ok=True)                \n",
    "mne.write_forward_solution(fwd_file, fwd,overwrite=True) \n",
    "'''"
   ]
  },
  {
   "cell_type": "code",
   "execution_count": null,
   "id": "c7b8b1b8-edf9-4dc9-9136-10d1afe121d9",
   "metadata": {},
   "outputs": [],
   "source": [
    "### don't run this #######################################################\n",
    "#cond = [0.3]                         # 1-layer (can't be used for EEG)\n",
    "'''\n",
    "cond = [0.3, 0.006, 0.3]              # 3-layer (can be used for EEG)\n",
    "model           = mne.bem.make_bem_model(subject=Subj,subjects_dir=subjects_dir, conductivity=cond)\n",
    "solution        = mne.bem.make_bem_solution(model)\n",
    "mne.bem.write_bem_solution(sol_file, solution)\n",
    "'''"
   ]
  },
  {
   "cell_type": "code",
   "execution_count": null,
   "id": "6e7b3753-a5f0-4bb1-a84b-72158af7e6bf",
   "metadata": {},
   "outputs": [],
   "source": [
    "print('subj_dir:\\t' + dir1)\n",
    "print('mriFile:\\t' + mriFile)\n",
    "print('trans_file:\\t' + trans_file)\n",
    "print('src_file:\\t' + src_file)\n",
    "print('sol_file:\\t' + sol_file)"
   ]
  }
 ],
 "metadata": {
  "kernelspec": {
   "display_name": "Python 3 (ipykernel)",
   "language": "python",
   "name": "python3"
  },
  "language_info": {
   "codemirror_mode": {
    "name": "ipython",
    "version": 3
   },
   "file_extension": ".py",
   "mimetype": "text/x-python",
   "name": "python",
   "nbconvert_exporter": "python",
   "pygments_lexer": "ipython3",
   "version": "3.12.7"
  }
 },
 "nbformat": 4,
 "nbformat_minor": 5
}

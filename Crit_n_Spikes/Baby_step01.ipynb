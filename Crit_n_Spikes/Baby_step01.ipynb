{
 "cells": [
  {
   "cell_type": "code",
   "execution_count": 1,
   "id": "db804527",
   "metadata": {},
   "outputs": [],
   "source": [
    "from scipy.io import loadmat\n",
    "import numpy as np\n",
    "import matplotlib.pyplot as plt\n",
    "from alphacsc import GreedyCDL\n",
    "from alphacsc.utils import split_signal\n",
    "from scipy import signal\n",
    "from scipy.signal import butter, filtfilt\n",
    "from matplotlib import gridspec\n",
    "import time"
   ]
  },
  {
   "cell_type": "code",
   "execution_count": null,
   "id": "63086ae9",
   "metadata": {},
   "outputs": [],
   "source": [
    "#filepath = '/data/sheng/MEG_source_data/case_0335/set1/parcel_ts/set1_parc2018yeo17_200_1000_weighted.npy'\n",
    "\n",
    "filepath = '/data/sheng/ResearchMEG_SrcData/grr0026_set03_v202412.npy'\n",
    "data = np.load(filepath) # data: channels x samples\n",
    "\n",
    "################################################## Write out a matlab file?\n",
    "SAVE_MAT = False\n",
    "WRITE_DIR = '/mnt/megshare/Development/Sheng/__dump/__MAT_files/'\n",
    "if SAVE_MAT == True: \n",
    "    \n",
    "    OFFSET = 33\n",
    "    SUBJ = filepath[OFFSET:OFFSET+4]\n",
    "    SET  = os.path.basename(filepath)[0:4]\n",
    "    if filepath[OFFSET+4] == '/':\n",
    "        SUBJ = SUBJ + '_1'\n",
    "    else:\n",
    "        SUBJ = SUBJ + '_' + filepath[OFFSET+5]\n",
    "\n",
    "    parcTS = {'parcTS': data}\n",
    "    matfile = WRITE_DIR + 'ver_2024123_' + SUBJ + '_' + SET + '.mat'\n",
    "    savemat(matfile, parcTS)"
   ]
  }
 ],
 "metadata": {
  "kernelspec": {
   "display_name": "Python 3 (ipykernel)",
   "language": "python",
   "name": "python3"
  },
  "language_info": {
   "codemirror_mode": {
    "name": "ipython",
    "version": 3
   },
   "file_extension": ".py",
   "mimetype": "text/x-python",
   "name": "python",
   "nbconvert_exporter": "python",
   "pygments_lexer": "ipython3",
   "version": "3.11.4"
  }
 },
 "nbformat": 4,
 "nbformat_minor": 5
}

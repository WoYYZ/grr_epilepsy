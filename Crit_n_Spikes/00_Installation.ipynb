{
 "cells": [
  {
   "cell_type": "code",
   "execution_count": null,
   "id": "1bebfb4c-3902-4b01-bb4a-95e50f9a7af1",
   "metadata": {},
   "outputs": [],
   "source": [
    "# How to add the crospy env to the jupyter notebook, in a jupyter terminal:\n",
    "source activate\n",
    "conda activate crosspy_env\n",
    "module load jupyterhub/live\n",
    "envkernel virtualenv --user --name INTERNAL_NAME --display-name=\"My virtualenv\" /home/wangs13/.conda/envs/crosspy_env"
   ]
  },
  {
   "cell_type": "code",
   "execution_count": 1,
   "id": "db804527",
   "metadata": {},
   "outputs": [],
   "source": [
    "# after installing alphacsc, go to the installation folder change that line where tukey was imported\n",
    "!pip install alphacsc\n",
    "\n",
    "!pip install -U scikit-learn"
   ]
  },
  {
   "cell_type": "code",
   "execution_count": null,
   "id": "1a28f6b9-0828-4f46-aacc-52e71510f2f1",
   "metadata": {},
   "outputs": [],
   "source": [
    "!cd /home/wangs13/source_py/cross_analytics\n",
    "!git clone https://version.helsinki.fi/vlamyr/cross_analytics.git\n",
    "!git install -e ."
   ]
  }
 ],
 "metadata": {
  "kernelspec": {
   "display_name": "Python generic (scicomp-python-env/2024-01)",
   "language": "python",
   "name": "python3"
  },
  "language_info": {
   "codemirror_mode": {
    "name": "ipython",
    "version": 3
   },
   "file_extension": ".py",
   "mimetype": "text/x-python",
   "name": "python",
   "nbconvert_exporter": "python",
   "pygments_lexer": "ipython3",
   "version": "3.11.9"
  }
 },
 "nbformat": 4,
 "nbformat_minor": 5
}

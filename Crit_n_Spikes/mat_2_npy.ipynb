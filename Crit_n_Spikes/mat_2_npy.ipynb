{
 "cells": [
  {
   "cell_type": "code",
   "execution_count": 1,
   "id": "9e8bf466-4816-4fbd-a8bd-cd2d6cd6e64f",
   "metadata": {},
   "outputs": [],
   "source": [
    "import os\n",
    "import numpy as np\n",
    "from scipy.io import loadmat\n",
    "def convert_mat_to_npy(folder_path):\n",
    "    # List all .mat files in the folder\n",
    "    mat_files = [f for f in os.listdir(folder_path) if f.endswith('.mat')]\n",
    "\n",
    "    mat_files = mat_files[198:]\n",
    "    for mat_file in mat_files:\n",
    "        mat_file_path = os.path.join(folder_path, mat_file)\n",
    "\n",
    "        try:\n",
    "            # Load the .mat file\n",
    "            mat_data = loadmat(mat_file_path)\n",
    "\n",
    "            # Extract the 'data' field\n",
    "            data = mat_data['data']\n",
    "\n",
    "            # Save the 'data' as a .npy file\n",
    "            npy_file_name = os.path.splitext(mat_file)[0] + '.npy'\n",
    "            npy_file_path = os.path.join(folder_path, npy_file_name)\n",
    "            np.save(npy_file_path, data)\n",
    "        except Exception as e:\n",
    "            print(f\"Error processing {mat_file}: {e}\")"
   ]
  },
  {
   "cell_type": "code",
   "execution_count": 2,
   "id": "56352715-ee22-4790-802f-59ee202129c7",
   "metadata": {},
   "outputs": [],
   "source": [
    "folder_path = \"/m/nbe/scratch/grr_epilepsy/MEG_spont/mat\"\n",
    "convert_mat_to_npy(folder_path)"
   ]
  },
  {
   "cell_type": "code",
   "execution_count": null,
   "id": "8f4623ab-f7c1-478a-9d69-f3c053dd174b",
   "metadata": {},
   "outputs": [],
   "source": [
    "!find /m/nbe/scratch/grr_epilepsy/MEG_spont/mat -maxdepth 1 -type f -name \"*.npy\" | wc -l"
   ]
  }
 ],
 "metadata": {
  "kernelspec": {
   "display_name": "Python generic (scicomp-python-env/2024-01)",
   "language": "python",
   "name": "python3"
  },
  "language_info": {
   "codemirror_mode": {
    "name": "ipython",
    "version": 3
   },
   "file_extension": ".py",
   "mimetype": "text/x-python",
   "name": "python",
   "nbconvert_exporter": "python",
   "pygments_lexer": "ipython3",
   "version": "3.11.9"
  }
 },
 "nbformat": 4,
 "nbformat_minor": 5
}
